{
 "cells": [
  {
   "cell_type": "markdown",
   "metadata": {},
   "source": [
    "# Statistics on the dataset"
   ]
  },
  {
   "cell_type": "code",
   "execution_count": 1,
   "metadata": {},
   "outputs": [],
   "source": [
    "import os\n",
    "import pandas as pd\n",
    "import numpy as np\n",
    "import matplotlib.pyplot as plt"
   ]
  },
  {
   "cell_type": "markdown",
   "metadata": {},
   "source": [
    "Data import into a global dataframe"
   ]
  },
  {
   "cell_type": "code",
   "execution_count": 2,
   "metadata": {},
   "outputs": [
    {
     "name": "stdout",
     "output_type": "stream",
     "text": [
      "                       date  \\\n",
      "count                 13788   \n",
      "unique                 4449   \n",
      "top     2021/12/01 17:06:00   \n",
      "freq                    346   \n",
      "\n",
      "                                                      URL description  \n",
      "count                                               13788       13788  \n",
      "unique                                              13314         223  \n",
      "top     https://www.kuerskaanmensyaseatn.co.jp.xiaoxuy...      Amazon  \n",
      "freq                                                    3        2281  \n",
      "\n",
      "\n",
      "<class 'pandas.core.frame.DataFrame'>\n",
      "RangeIndex: 13788 entries, 0 to 13787\n",
      "Data columns (total 3 columns):\n",
      " #   Column       Non-Null Count  Dtype \n",
      "---  ------       --------------  ----- \n",
      " 0   date         13788 non-null  object\n",
      " 1   URL          13788 non-null  object\n",
      " 2   description  13788 non-null  object\n",
      "dtypes: object(3)\n",
      "memory usage: 323.3+ KB\n",
      "None\n",
      "\n",
      "\n",
      "                  date                                                URL  \\\n",
      "0  2019/12/02 10:17:00                            https://www.gdsfue.com/   \n",
      "1  2019/12/02 11:16:00  http://defy-factory.com/wp-admin/images/ow/aut...   \n",
      "2  2019/12/02 11:53:00                           http://nttdocomo-lu.com/   \n",
      "3  2019/12/02 13:42:00                https://www.my-yjcbard-jp-login.xyz   \n",
      "4  2019/12/02 13:48:00                            https://www.emkwls.com/   \n",
      "\n",
      "  description  \n",
      "0        LINE  \n",
      "1   Microsoft  \n",
      "2  NTT docomo  \n",
      "3     KC Card  \n",
      "4        LINE  \n"
     ]
    }
   ],
   "source": [
    "\n",
    "#the data used right now is coming from the following link: https://github.com/JPCERTCC/phishurl-list\n",
    "\n",
    "# Create an empty global dataframe\n",
    "global_dataframe = pd.DataFrame()\n",
    "\n",
    "# Path to the data folder\n",
    "data_folder = \"C:/Users/lauri/Documents/_tsinghua/machine_learning/Project/code_git/URL_classification/data\"\n",
    "\n",
    "# Loop through all CSV files in the data folder\n",
    "for filename in os.listdir(data_folder):\n",
    "    if filename.endswith('.csv'):\n",
    "        # Construct the full path to he CSV file\n",
    "        file_path = os.path.join(data_folder, filename)\n",
    "\n",
    "        # Read the CSV file into a pandas dataframe\n",
    "        current_dataframe = pd.read_csv(file_path)\n",
    "\n",
    "        # Concatenate the current dataframe to the global dataframe\n",
    "        global_dataframe = pd.concat([global_dataframe, current_dataframe], ignore_index=True)\n",
    "\n",
    "# Display the global dataframe\n",
    "print(global_dataframe.describe())\n",
    "print(\"\\n\")\n",
    "print(global_dataframe.info())\n",
    "print(\"\\n\")\n",
    "print(global_dataframe.head(5))\n"
   ]
  },
  {
   "cell_type": "markdown",
   "metadata": {},
   "source": [
    "Data cleansing"
   ]
  },
  {
   "cell_type": "code",
   "execution_count": 3,
   "metadata": {},
   "outputs": [
    {
     "name": "stdout",
     "output_type": "stream",
     "text": [
      "Duplicate Rows except first occurrence:\n",
      "                     date                                     URL description\n",
      "616   2020/12/01 15:09:00  http://rvkutenn.co.kckoxzhiosqhdas.cc/          楽天\n",
      "1918  2020/12/24 18:16:00            http://rawskesda-master.ooo/          楽天\n",
      "1920  2020/12/24 18:16:00            http://rawskspda-master.ooo/          楽天\n",
      "1922  2020/12/24 18:16:00            http://rawskstda-master.ooo/          楽天\n",
      "1924  2020/12/24 18:16:00            http://rawsksuda-master.ooo/          楽天\n",
      "2057  2021/12/01 10:32:00   http://vlsbgnqhyr.duckdns.org/ja/main    Apple ID\n",
      "2058  2021/12/01 10:32:00   http://vwptzqgmqb.duckdns.org/ja/main    Apple ID\n",
      "2059  2021/12/01 10:32:00   http://vyjaqtxzuw.duckdns.org/ja/main    Apple ID\n",
      "2060  2021/12/01 10:32:00   http://vzdshivhmz.duckdns.org/ja/main    Apple ID\n",
      "2061  2021/12/01 10:32:00   http://wbzczbvrag.duckdns.org/ja/main    Apple ID\n",
      "2084  2021/12/01 13:10:00       https://www.eascmpoe.csenocd.com/      エポスカード\n",
      "List of rows with missing values:\n",
      "Empty DataFrame\n",
      "Columns: [date, URL, description]\n",
      "Index: []\n"
     ]
    }
   ],
   "source": [
    "# Check for duplicates\n",
    "duplicates = global_dataframe.duplicated()\n",
    "print(\"Duplicate Rows except first occurrence:\")\n",
    "print(global_dataframe[duplicates])\n",
    "\n",
    "# Remove duplicates and update the dataframe\n",
    "global_dataframe = global_dataframe.drop_duplicates()\n",
    "\n",
    "#Check for missing values\n",
    "print(\"List of rows with missing values:\")\n",
    "print(global_dataframe[global_dataframe.isnull()['URL']==True])\n",
    "\n",
    "# remove the data with missing values\n",
    "global_dataframe = global_dataframe.dropna(subset=['URL'])\n",
    "global_dataframe = global_dataframe.dropna(subset=['description'])\n"
   ]
  },
  {
   "cell_type": "markdown",
   "metadata": {},
   "source": [
    "Statistics"
   ]
  },
  {
   "cell_type": "markdown",
   "metadata": {},
   "source": [
    "write some code to plot some graphs and statistics about my dataframe. I want you to include a first graph containing the number of phishing URL with their monthly evolution and another graph with the number of URL per extension type"
   ]
  },
  {
   "cell_type": "code",
   "execution_count": null,
   "metadata": {},
   "outputs": [],
   "source": []
  }
 ],
 "metadata": {
  "kernelspec": {
   "display_name": "Python 3",
   "language": "python",
   "name": "python3"
  },
  "language_info": {
   "codemirror_mode": {
    "name": "ipython",
    "version": 3
   },
   "file_extension": ".py",
   "mimetype": "text/x-python",
   "name": "python",
   "nbconvert_exporter": "python",
   "pygments_lexer": "ipython3",
   "version": "3.8.5"
  }
 },
 "nbformat": 4,
 "nbformat_minor": 2
}
