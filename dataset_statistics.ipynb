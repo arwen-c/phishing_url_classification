{
 "cells": [
  {
   "cell_type": "markdown",
   "metadata": {},
   "source": [
    "# Statistics on the dataset"
   ]
  },
  {
   "cell_type": "code",
   "execution_count": 5,
   "metadata": {},
   "outputs": [],
   "source": [
    "#import drill package and add it to the jupyter notebook environment\n",
    "import sys\n",
    "sys.path.append('../')\n",
    "import dill"
   ]
  },
  {
   "cell_type": "code",
   "execution_count": 6,
   "metadata": {},
   "outputs": [],
   "source": [
    "import os\n",
    "import pandas as pd\n",
    "import numpy as np\n",
    "#import matplotlib.pyplot as plt"
   ]
  },
  {
   "cell_type": "markdown",
   "metadata": {},
   "source": [
    "source of the dataset\n",
    "\n",
    "author = {Feng, Tao and Yue, Chuan},\n",
    "title = {Visualizing and Interpreting RNN Models in URL-Based Phishing Detection},\n",
    "year = {2020},\n",
    "isbn = {9781450375689},\n",
    "publisher = {Association for Computing Machinery},\n",
    "address = {New York, NY, USA},\n",
    "url = {https://doi.org/10.1145/3381991.3395602},\n",
    "doi = {10.1145/3381991.3395602},\n",
    "booktitle = {Proceedings of the 25th ACM Symposium on Access Control Models and Technologies},\n",
    "pages = {13–24},\n",
    "numpages = {12},\n",
    "keywords = {visualization, interpretation, phishing detection, deep learning},\n",
    "location = {Barcelona, Spain},\n",
    "series = {SACMAT '20}\n",
    "}```"
   ]
  },
  {
   "cell_type": "markdown",
   "metadata": {},
   "source": [
    "Data import into a global dataframe\n",
    "\n",
    "⚠ The data that we import is already encoded into numbers for their RNN analysis"
   ]
  },
  {
   "cell_type": "code",
   "execution_count": 7,
   "metadata": {},
   "outputs": [
    {
     "name": "stdout",
     "output_type": "stream",
     "text": [
      "Feature Shapes:\n",
      "\n",
      "Train set: (1247489, 150)  Validation set: (155936, 150)  Test set: (155937, 150)\n"
     ]
    }
   ],
   "source": [
    "import dill\n",
    "dill_file=\"vonDataset20180426.dill\"\n",
    "with open(dill_file, 'rb') as f:\n",
    "        pickleData=dill.load( f )\n",
    "        train_x,train_y=pickleData[\"train_x\"],pickleData[\"train_y\"]\n",
    "        val_x,val_y=pickleData[\"val_x\"],pickleData[\"val_y\"]\n",
    "        test_x,test_y=pickleData[\"test_x\"],pickleData[\"test_y\"]\n",
    "        char_to_int=pickleData[\"char_to_int\"]\n",
    "print(\"Feature Shapes:\\n\")\n",
    "print(\"Train set: {}\".format(train_x.shape), \n",
    "      \" Validation set: {}\".format(val_x.shape),\n",
    "      \" Test set: {}\".format(test_x.shape))"
   ]
  },
  {
   "cell_type": "code",
   "execution_count": 16,
   "metadata": {},
   "outputs": [
    {
     "name": "stdout",
     "output_type": "stream",
     "text": [
      "{'|': 90, 'F': 51, 'd': 16, '!': 78, 'V': 67, '?': 48, '{': 94, 'P': 54, 'E': 49, '�': 88, 'B': 46, 'N': 60, 'a': 4, '5': 28, '8': 25, 'l': 15, ']': 97, 'G': 63, '1': 19, 's': 8, 'f': 26, '9': 33, 'M': 58, '0': 20, '补': 0, 'A': 43, 'L': 55, ' ': 89, ';': 57, 'J': 69, '<': 93, '\\x82': 87, 'e': 3, 'r': 12, 'g': 24, '#': 84, '7': 34, 'H': 65, 'p': 10, 'Y': 68, 'x': 40, 'Ã': 79, '}': 96, 'X': 72, '-': 18, '`': 92, 'S': 52, 'C': 50, 'b': 21, '4': 31, '&': 44, '2': 22, 'i': 9, 'y': 36, 'T': 59, '_': 42, 'Q': 71, '6': 32, '$': 86, '*': 81, '\\x83': 85, '\\n': 30, 'O': 62, '~': 75, 'K': 73, '[': 98, 'D': 41, 'z': 47, 'I': 53, '3': 27, '.': 7, 'Z': 70, 'c': 6, 'o': 5, 'W': 66, '\\x13': 95, ')': 83, 'h': 14, ':': 29, 'w': 17, 'u': 23, '%': 35, 'Â': 80, '未': 99, ',': 76, 'j': 45, 'v': 38, '=': 39, 'k': 37, '@': 77, '+': 74, 'U': 64, '/': 1, 'R': 61, 'q': 56, '(': 82, \"'\": 91, 'm': 13, 't': 2, 'n': 11}\n"
     ]
    }
   ],
   "source": [
    "print(pickleData[\"char_to_int\"])"
   ]
  },
  {
   "cell_type": "code",
   "execution_count": 12,
   "metadata": {},
   "outputs": [
    {
     "name": "stdout",
     "output_type": "stream",
     "text": [
      "[ 0  0  0  0  0  0  0  0  0  0  0  0  0  0  0  0  0  0  0 14  2  2 10 29\n",
      "  1  1 17 17 17  7  2  5 10 37 36  7  8 37  1 24 15  1 31 20 33 34 33 19\n",
      "  1 19 25 28 33 33 27 28  1 64 13 12  3 15  4 18 13 23 18 21  4 21 37  4\n",
      " 18 18 47  4  6  4 15 18 10  4  2 12  4  2 18  4 18 11  4 15  3 47 18 14\n",
      "  5 18  8  5 37  5 38  4 15 18 18 62 16 14  4 15  9 15 18 11  3 37  4 15\n",
      "  3 18 10 12  4 37  2  9 37 36 18  5 37 12  4 16  4 11  9  4 18 16  5  6\n",
      " 14  5 16  6  5 38]\n"
     ]
    }
   ],
   "source": [
    "print(train_x[10])"
   ]
  },
  {
   "cell_type": "code",
   "execution_count": null,
   "metadata": {},
   "outputs": [],
   "source": [
    "abcde"
   ]
  },
  {
   "cell_type": "markdown",
   "metadata": {},
   "source": [
    "Reconversion of the data into str"
   ]
  },
  {
   "cell_type": "code",
   "execution_count": null,
   "metadata": {
    "is_executing": true
   },
   "outputs": [],
   "source": [
    "#Transform the data back into string using the char_to_int dictionary\n",
    "def int_to_char(x):\n",
    "    res=''.join([list(char_to_int.keys())[list(char_to_int.values()).index(i)] for i in x])\n",
    "    #remove from res the beginning of the string that had zero as a value\n",
    "    # res=res[res.find('h'):]#is every string starting with 'h'?\n",
    "    return res\n",
    "\n",
    "#function that transforms the whole matrix into a list of strings\n",
    "def matrix_to_list(x):\n",
    "    res=[]\n",
    "    for i in range(x.shape[0]):\n",
    "        res.append(int_to_char(x[i]))\n",
    "    return res\n",
    "\n",
    "print(int_to_char(train_x[10]))"
   ]
  },
  {
   "cell_type": "markdown",
   "metadata": {},
   "source": [
    "Data cleansing ?"
   ]
  },
  {
   "cell_type": "markdown",
   "metadata": {},
   "source": [
    "Statistics ?"
   ]
  },
  {
   "cell_type": "markdown",
   "metadata": {},
   "source": []
  }
 ],
 "metadata": {
  "kernelspec": {
   "display_name": "Python 3",
   "language": "python",
   "name": "python3"
  },
  "language_info": {
   "codemirror_mode": {
    "name": "ipython",
    "version": 3
   },
   "file_extension": ".py",
   "mimetype": "text/x-python",
   "name": "python",
   "nbconvert_exporter": "python",
   "pygments_lexer": "ipython3",
   "version": "3.10.11"
  }
 },
 "nbformat": 4,
 "nbformat_minor": 2
}
